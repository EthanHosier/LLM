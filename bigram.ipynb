{
 "cells": [
  {
   "cell_type": "code",
   "execution_count": 1,
   "id": "d6c83a30-dab0-44f8-9298-8225462c358d",
   "metadata": {},
   "outputs": [
    {
     "name": "stdout",
     "output_type": "stream",
     "text": [
      "cuda\n"
     ]
    }
   ],
   "source": [
    "import torch\n",
    "import torch.nn as nn\n",
    "from torch.nn import functional as F\n",
    "device = \"cuda\" if torch.cuda.is_available() else \"cpu\"\n",
    "print(device)\n",
    "block_size = 8\n",
    "batch_size = 4 #how many blocks in parallel\n",
    "learning_rate = 3e-4\n",
    "#eval_interval = 2500\n",
    "max_iters = 1000\n",
    "eval_iters = 250\n",
    "#dropout = 0.2 #dropout random neurons of network = don't overfit"
   ]
  },
  {
   "cell_type": "code",
   "execution_count": 2,
   "id": "10168ee9-c7b9-451d-86c0-6c4582dd7179",
   "metadata": {},
   "outputs": [
    {
     "name": "stdout",
     "output_type": "stream",
     "text": [
      "['\\n', ' ', '!', '\"', '&', \"'\", '(', ')', '*', ',', '-', '.', '0', '1', '2', '3', '4', '5', '6', '7', '8', '9', ':', ';', '?', 'A', 'B', 'C', 'D', 'E', 'F', 'G', 'H', 'I', 'J', 'K', 'L', 'M', 'N', 'O', 'P', 'Q', 'R', 'S', 'T', 'U', 'V', 'W', 'X', 'Y', 'Z', '[', ']', '_', 'a', 'b', 'c', 'd', 'e', 'f', 'g', 'h', 'i', 'j', 'k', 'l', 'm', 'n', 'o', 'p', 'q', 'r', 's', 't', 'u', 'v', 'w', 'x', 'y', 'z', '\\ufeff']\n"
     ]
    }
   ],
   "source": [
    "with open('wizard-of-oz.txt', 'r', encoding=\"utf-8\") as f:\n",
    "    text = f.read()\n",
    "chars = sorted(set(text))\n",
    "print(chars)\n",
    "vocab_size = len(chars)\n"
   ]
  },
  {
   "cell_type": "code",
   "execution_count": 3,
   "id": "ddd3eaf6-0f48-4ed9-9326-3ec4758cc00e",
   "metadata": {},
   "outputs": [
    {
     "name": "stdout",
     "output_type": "stream",
     "text": [
      "tensor([80,  1,  1, 28, 39, 42, 39, 44, 32, 49,  1, 25, 38, 28,  1, 44, 32, 29,\n",
      "         1, 47, 33, 50, 25, 42, 28,  1, 33, 38,  1, 39, 50,  0,  0,  1,  1, 26,\n",
      "        49,  0,  0,  1,  1, 36, 11,  1, 30, 42, 25, 38, 35,  1, 26, 25, 45, 37,\n",
      "         0,  0,  1,  1, 25, 45, 44, 32, 39, 42,  1, 39, 30,  1, 44, 32, 29,  1,\n",
      "        47, 33, 50, 25, 42, 28,  1, 39, 30,  1, 39, 50,  9,  1, 44, 32, 29,  1,\n",
      "        36, 25, 38, 28,  1, 39, 30,  1, 39, 50])\n"
     ]
    }
   ],
   "source": [
    "string_to_int = { ch:i for i, ch in enumerate(chars) }\n",
    "int_to_string = { i:ch for i, ch in enumerate(chars) }\n",
    "encode = lambda s: [string_to_int[c] for c in s];\n",
    "decode = lambda l: \"\".join([int_to_string[i] for i in l])\n",
    "\n",
    "data = torch.tensor(encode(text), dtype=torch.long)\n",
    "\n",
    "print(data[:100])"
   ]
  },
  {
   "cell_type": "code",
   "execution_count": 4,
   "id": "8eab0b7e-cf44-46cd-8f68-a46aeade0ddf",
   "metadata": {},
   "outputs": [
    {
     "name": "stdout",
     "output_type": "stream",
     "text": [
      "inputs: \n",
      "tensor([[57,  1, 72, 68,  1, 58, 72, 56],\n",
      "        [ 1, 67, 68, 73,  1, 75, 58, 60],\n",
      "        [71, 72, 58,  9,  1, 61, 54, 67],\n",
      "        [58, 57,  1, 56, 54, 74, 73, 62]], device='cuda:0')\n",
      "targets: \n",
      "tensor([[ 1, 72, 68,  1, 58, 72, 56, 54],\n",
      "        [67, 68, 73,  1, 75, 58, 60, 58],\n",
      "        [72, 58,  9,  1, 61, 54, 67, 60],\n",
      "        [57,  1, 56, 54, 74, 73, 62, 68]], device='cuda:0')\n"
     ]
    }
   ],
   "source": [
    "n = int(0.8*len(data))\n",
    "train_data = data[:n]\n",
    "val_data = data[n:]\n",
    "\n",
    "def get_batch(split):\n",
    "    data = train_data if split == 'train' else val_data\n",
    "    ix = torch.randint(len(data) - block_size, (batch_size, ))\n",
    "    #print(ix)\n",
    "    x = torch.stack([data[i: i+block_size] for i in ix])\n",
    "    y = torch.stack([data[i + 1:i + block_size + 1] for i in ix])\n",
    "    x, y = x.to(device), y.to(device) #pushed to GPU = will be handled there\n",
    "    return x,y\n",
    "\n",
    "x, y = get_batch('train')\n",
    "print(\"inputs: \")\n",
    "print(x)\n",
    "\n",
    "print (\"targets: \")\n",
    "print(y)\n",
    "    "
   ]
  },
  {
   "cell_type": "code",
   "execution_count": 5,
   "id": "9c8c819b-261f-4d47-aa6b-3004d4e02728",
   "metadata": {},
   "outputs": [
    {
     "name": "stdout",
     "output_type": "stream",
     "text": [
      "tensor([80,  1,  1, 28, 39, 42, 39, 44])\n",
      "tensor([ 1,  1, 28, 39, 42, 39, 44, 32])\n",
      "when input is tensor([80]) target is tensor(1)\n",
      "when input is tensor([80,  1]) target is tensor(1)\n",
      "when input is tensor([80,  1,  1]) target is tensor(28)\n",
      "when input is tensor([80,  1,  1, 28]) target is tensor(39)\n",
      "when input is tensor([80,  1,  1, 28, 39]) target is tensor(42)\n",
      "when input is tensor([80,  1,  1, 28, 39, 42]) target is tensor(39)\n",
      "when input is tensor([80,  1,  1, 28, 39, 42, 39]) target is tensor(44)\n",
      "when input is tensor([80,  1,  1, 28, 39, 42, 39, 44]) target is tensor(32)\n"
     ]
    }
   ],
   "source": [
    "\n",
    "x = train_data[:block_size]\n",
    "y = train_data[1:block_size + 1]\n",
    "\n",
    "print(x)\n",
    "print(y)\n",
    "\n",
    "for t in range(block_size):\n",
    "    context = x[:t+1]\n",
    "    target=y[t]\n",
    "    print(\"when input is\", context, \"target is\", target)"
   ]
  },
  {
   "cell_type": "code",
   "execution_count": 6,
   "id": "12832c95-c47e-42c5-a49b-cf07a343ccad",
   "metadata": {},
   "outputs": [],
   "source": [
    "#decorator makes pytorch not use gradients at all in it\n",
    "# = reduces computation / memory usage\n",
    "#NO TRAINING IS HAPPENING HERE\n",
    "@torch.no_grad()\n",
    "def estimate_loss():\n",
    "    out = {}\n",
    "\n",
    "    # puts model into eval mode - for evaluating / testing\n",
    "    # ** stuff disabled\n",
    "    # want to see how well model actually performs\n",
    "    model.eval()\n",
    "    for split in ['train', 'val']:\n",
    "        losses = torch.zeros(eval_iters)\n",
    "        for k in range(eval_iters):\n",
    "            X, Y = get_batch(split)\n",
    "            logits, loss = model(X, Y)\n",
    "            losses[k] = loss.item()\n",
    "        out[split] = losses.mean()\n",
    "        \n",
    "        # puts model into training mode\n",
    "        # ** weights + biases update during this phase\n",
    "        # ** dropout + batch normalisation active\n",
    "        model.train()\n",
    "    return out"
   ]
  },
  {
   "cell_type": "code",
   "execution_count": 7,
   "id": "cf0721bc-84d0-41f5-b986-e5ba7663340b",
   "metadata": {},
   "outputs": [
    {
     "name": "stdout",
     "output_type": "stream",
     "text": [
      "\n",
      "fAoe1[,,LRZP]HAW﻿fzfHhs!hWh.N'pcrcYaeTAt)ezSvMH ueujuBm6y[\"p3hq0jF2McP&?fHi4bYe(BUcC\n",
      ".P'&TrfxeJLG9G;9b?KI31BRg7NQGA﻿\"7]4vgz_.E﻿vE,fYG82;aoeaQOk8OaEPvgUyRpy[zAU9SJ?6'hK:'hnNr9u86g1YE-][m'\"AB8b5hiCBB.TKb.)*Vmb3﻿5554bV(0bkZRq;X5ZEPOFAWnw3c-e0Jy*u]HzUM(nL&xddL﻿\"MKI\"QtUn90J&\"QNT1_dfMaJ,Ty[ypC\"xx\n",
      "6yRg3cdNSvb9j3!(7[)﻿\"HhzD(6ZW8chk2n;﻿xF?z_﻿cwV:9DI:L'\n",
      "r E0MN:oVqn;)eKQ!(sNy6BCl﻿86Zg*klfSqrXADZ'04Dn﻿30vm'nH6CK;QN6cuoPY(sN'\"WbW5eJ﻿D0M)*R7GfL&]I!vplu-X-DzuT_W*1.PC;7)95l!n(4j&zoEP.P]ggg9vM8W3BewcVWi'Uj!A*FER\n"
     ]
    }
   ],
   "source": [
    "class BigramLanguageModel(nn.Module):\n",
    "    def __init__(self, vocab_size):\n",
    "        super().__init__()\n",
    "        self.token_embedding_table = nn.Embedding(vocab_size, vocab_size)\n",
    "\n",
    "    def forward(self, index, targets=None):\n",
    "        logits = self.token_embedding_table(index)\n",
    "        \n",
    "        if targets is None:\n",
    "            loss = None\n",
    "        else:\n",
    "            # batch size, ('time steps' or 'sequence length'), 'channels' = dimensionality of vectors =  vocab_size  \n",
    "            B, T, C = logits.shape\n",
    "\n",
    "            #flatten, now where the characters are in their individual sequences doesn't matter\n",
    "            logits = logits.view(B*T, C)\n",
    "            targets = targets.view(B*T)\n",
    "\n",
    "            #compares the vectors from embedding table to the truth value (truth vectors automatically generated, pytorch expects only the actual truth val here)\n",
    "            loss = F.cross_entropy(logits, targets)\n",
    "        \n",
    "        return logits, loss\n",
    "\n",
    "    #we're not training here, just using existing model\n",
    "    def generate(self, index, max_new_tokens):\n",
    "        # index is (B, T) array of indices in the current context\n",
    "        for _ in range(max_new_tokens):\n",
    "            # get the predictions\n",
    "            logits, loss = self.forward(index)\n",
    "            \n",
    "            # focus only on the last time step AS ONLY WANT NEXT CHARACTER\n",
    "            logits = logits[:, -1, :] # becomes (B, C)\n",
    "            \n",
    "            # apply softmax to get probabilities\n",
    "            probs = F.softmax(logits, dim=-1) # (B, C)\n",
    "            \n",
    "            # sample from the distribution\n",
    "            index_next = torch.multinomial(probs, num_samples=1) # (B, 1)\n",
    "            \n",
    "            # append sampled index to the running sequence\n",
    "            index = torch.cat((index, index_next), dim=1) # (B, T+1)\n",
    "        return index\n",
    "\n",
    "model = BigramLanguageModel(vocab_size)\n",
    "m = model.to(device) #push to GPU\n",
    "\n",
    "context = torch.zeros((1,1), dtype=torch.long, device=device) #nextline character\n",
    "generated_chars = decode(m.generate(context, max_new_tokens=500)[0].tolist())\n",
    "print(generated_chars)"
   ]
  },
  {
   "cell_type": "code",
   "execution_count": 8,
   "id": "24cb252b-5c58-4916-8e6b-eb61cecf1eec",
   "metadata": {},
   "outputs": [
    {
     "data": {
      "text/plain": [
       "torch.Size([2, 3, 5])"
      ]
     },
     "execution_count": 8,
     "metadata": {},
     "output_type": "execute_result"
    }
   ],
   "source": [
    "a = torch.rand(2, 3, 5)\n",
    "x, y, z = a.shape\n",
    "a = a.view(x, y, z)\n",
    "a.shape"
   ]
  },
  {
   "cell_type": "code",
   "execution_count": 9,
   "id": "7ffa9f43-cd02-4a70-a15a-135fbbeb25b3",
   "metadata": {},
   "outputs": [
    {
     "ename": "NameError",
     "evalue": "name 'eval_inters' is not defined",
     "output_type": "error",
     "traceback": [
      "\u001b[0;31m---------------------------------------------------------------------------\u001b[0m",
      "\u001b[0;31mNameError\u001b[0m                                 Traceback (most recent call last)",
      "Cell \u001b[0;32mIn[9], line 5\u001b[0m\n\u001b[1;32m      2\u001b[0m optimizer \u001b[38;5;241m=\u001b[39m torch\u001b[38;5;241m.\u001b[39moptim\u001b[38;5;241m.\u001b[39mAdamW(model\u001b[38;5;241m.\u001b[39mparameters(), lr\u001b[38;5;241m=\u001b[39mlearning_rate)\n\u001b[1;32m      4\u001b[0m \u001b[38;5;28;01mfor\u001b[39;00m \u001b[38;5;28miter\u001b[39m \u001b[38;5;129;01min\u001b[39;00m \u001b[38;5;28mrange\u001b[39m(max_iters):\n\u001b[0;32m----> 5\u001b[0m     \u001b[38;5;28;01mif\u001b[39;00m \u001b[38;5;28miter\u001b[39m \u001b[38;5;241m%\u001b[39m \u001b[43meval_inters\u001b[49m \u001b[38;5;241m==\u001b[39m \u001b[38;5;241m0\u001b[39m:\n\u001b[1;32m      6\u001b[0m         losses \u001b[38;5;241m=\u001b[39m estimate_loss()\n\u001b[1;32m      7\u001b[0m         \u001b[38;5;28mprint\u001b[39m(\u001b[38;5;124mf\u001b[39m\u001b[38;5;124m\"\u001b[39m\u001b[38;5;124mstep: \u001b[39m\u001b[38;5;132;01m{\u001b[39;00m\u001b[38;5;28miter\u001b[39m\u001b[38;5;132;01m}\u001b[39;00m\u001b[38;5;124m, train loss: \u001b[39m\u001b[38;5;132;01m{\u001b[39;00mlosses[\u001b[38;5;124m'\u001b[39m\u001b[38;5;124mtrain\u001b[39m\u001b[38;5;124m'\u001b[39m]\u001b[38;5;132;01m:\u001b[39;00m\u001b[38;5;124m.3f\u001b[39m\u001b[38;5;132;01m}\u001b[39;00m\u001b[38;5;124m, val loss: \u001b[39m\u001b[38;5;132;01m{\u001b[39;00mlosses[\u001b[38;5;124m'\u001b[39m\u001b[38;5;124mval\u001b[39m\u001b[38;5;124m'\u001b[39m]\u001b[38;5;132;01m:\u001b[39;00m\u001b[38;5;124m.3f\u001b[39m\u001b[38;5;132;01m}\u001b[39;00m\u001b[38;5;124m\"\u001b[39m)\n",
      "\u001b[0;31mNameError\u001b[0m: name 'eval_inters' is not defined"
     ]
    }
   ],
   "source": [
    "#pytorch optimizer:\n",
    "optimizer = torch.optim.AdamW(model.parameters(), lr=learning_rate)\n",
    "\n",
    "for iter in range(max_iters):\n",
    "    if iter % eval_inters == 0:\n",
    "        losses = estimate_loss()\n",
    "        print(f\"step: {iter}, train loss: {losses['train']:.3f}, val loss: {losses['val']:.3f}\")\n",
    "    \n",
    "    #sample a batch of data\n",
    "    xb, yb = get_batch('train') #xb = index / inputs, yb = target\n",
    "\n",
    "    #evaluate the loss\n",
    "    logits, loss = model.forward(xb, yb)\n",
    "\n",
    "    #so previous gradients don't affect current gradient\n",
    "    #previous gradients are from previous data\n",
    "    #none instead of 0 as optimisation for less space (0 would be stored as int64)\n",
    "    optimizer.zero_grad(set_to_none=True)\n",
    "\n",
    "    #computes gradients\n",
    "    loss.backward()\n",
    "\n",
    "    #updates model's weights based on gradients\n",
    "    optimizer.step()\n",
    "\n",
    "print(loss.item())"
   ]
  },
  {
   "cell_type": "code",
   "execution_count": null,
   "id": "5a935687-723b-45bb-a818-f333861c7e3b",
   "metadata": {},
   "outputs": [],
   "source": [
    "context = torch.zeros((1,1), dtype=torch.long, device=device)\n",
    "generated_chars = decode(m.generate(context, max_new_tokens=500)[0].tolist())\n",
    "print(generated_chars)"
   ]
  },
  {
   "cell_type": "code",
   "execution_count": null,
   "id": "d4b2eb74-7541-496e-80e6-65f253a95347",
   "metadata": {},
   "outputs": [],
   "source": [
    "x = torch.tensor([-0.05], dtype=torch.float32)\n",
    "y = F.sigmoid(x)\n",
    "print(y)"
   ]
  }
 ],
 "metadata": {
  "kernelspec": {
   "display_name": "cuda-gpt",
   "language": "python",
   "name": "cuda_env"
  },
  "language_info": {
   "codemirror_mode": {
    "name": "ipython",
    "version": 3
   },
   "file_extension": ".py",
   "mimetype": "text/x-python",
   "name": "python",
   "nbconvert_exporter": "python",
   "pygments_lexer": "ipython3",
   "version": "3.8.18"
  }
 },
 "nbformat": 4,
 "nbformat_minor": 5
}
