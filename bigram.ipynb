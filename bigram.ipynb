{
 "cells": [
  {
   "cell_type": "code",
   "execution_count": 1,
   "id": "d6c83a30-dab0-44f8-9298-8225462c358d",
   "metadata": {},
   "outputs": [
    {
     "name": "stdout",
     "output_type": "stream",
     "text": [
      "cuda\n"
     ]
    }
   ],
   "source": [
    "import torch\n",
    "import torch.nn as nn\n",
    "from torch.nn import functional as F\n",
    "device = \"cuda\" if torch.cuda.is_available() else \"cpu\"\n",
    "print(device)\n",
    "block_size = 8\n",
    "batch_size = 4 #how many blocks in parallel\n",
    "learning_rate = 3e-4\n",
    "#eval_interval = 2500\n",
    "max_iters = 10000"
   ]
  },
  {
   "cell_type": "code",
   "execution_count": 2,
   "id": "10168ee9-c7b9-451d-86c0-6c4582dd7179",
   "metadata": {},
   "outputs": [
    {
     "name": "stdout",
     "output_type": "stream",
     "text": [
      "['\\n', ' ', '!', '\"', '&', \"'\", '(', ')', '*', ',', '-', '.', '0', '1', '2', '3', '4', '5', '6', '7', '8', '9', ':', ';', '?', 'A', 'B', 'C', 'D', 'E', 'F', 'G', 'H', 'I', 'J', 'K', 'L', 'M', 'N', 'O', 'P', 'Q', 'R', 'S', 'T', 'U', 'V', 'W', 'X', 'Y', 'Z', '[', ']', '_', 'a', 'b', 'c', 'd', 'e', 'f', 'g', 'h', 'i', 'j', 'k', 'l', 'm', 'n', 'o', 'p', 'q', 'r', 's', 't', 'u', 'v', 'w', 'x', 'y', 'z', '\\ufeff']\n"
     ]
    }
   ],
   "source": [
    "with open('wizard-of-oz.txt', 'r', encoding=\"utf-8\") as f:\n",
    "    text = f.read()\n",
    "chars = sorted(set(text))\n",
    "print(chars)\n",
    "vocab_size = len(chars)\n"
   ]
  },
  {
   "cell_type": "code",
   "execution_count": 3,
   "id": "ddd3eaf6-0f48-4ed9-9326-3ec4758cc00e",
   "metadata": {},
   "outputs": [
    {
     "name": "stdout",
     "output_type": "stream",
     "text": [
      "tensor([80,  1,  1, 28, 39, 42, 39, 44, 32, 49,  1, 25, 38, 28,  1, 44, 32, 29,\n",
      "         1, 47, 33, 50, 25, 42, 28,  1, 33, 38,  1, 39, 50,  0,  0,  1,  1, 26,\n",
      "        49,  0,  0,  1,  1, 36, 11,  1, 30, 42, 25, 38, 35,  1, 26, 25, 45, 37,\n",
      "         0,  0,  1,  1, 25, 45, 44, 32, 39, 42,  1, 39, 30,  1, 44, 32, 29,  1,\n",
      "        47, 33, 50, 25, 42, 28,  1, 39, 30,  1, 39, 50,  9,  1, 44, 32, 29,  1,\n",
      "        36, 25, 38, 28,  1, 39, 30,  1, 39, 50])\n"
     ]
    }
   ],
   "source": [
    "string_to_int = { ch:i for i, ch in enumerate(chars) }\n",
    "int_to_string = { i:ch for i, ch in enumerate(chars) }\n",
    "encode = lambda s: [string_to_int[c] for c in s];\n",
    "decode = lambda l: \"\".join([int_to_string[i] for i in l])\n",
    "\n",
    "data = torch.tensor(encode(text), dtype=torch.long)\n",
    "\n",
    "print(data[:100])"
   ]
  },
  {
   "cell_type": "code",
   "execution_count": 4,
   "id": "8eab0b7e-cf44-46cd-8f68-a46aeade0ddf",
   "metadata": {},
   "outputs": [
    {
     "name": "stdout",
     "output_type": "stream",
     "text": [
      "inputs: \n",
      "tensor([[73, 61, 58,  1, 71, 68, 56, 64],\n",
      "        [57, 58, 67,  1, 68, 59,  1, 73],\n",
      "        [40, 29,  1,  1,  1,  1,  1,  1],\n",
      "        [59, 68, 74, 67, 57,  1, 73, 61]], device='cuda:0')\n",
      "targets: \n",
      "tensor([[61, 58,  1, 71, 68, 56, 64, 78],\n",
      "        [58, 67,  1, 68, 59,  1, 73, 61],\n",
      "        [29,  1,  1,  1,  1,  1,  1,  1],\n",
      "        [68, 74, 67, 57,  1, 73, 61, 58]], device='cuda:0')\n"
     ]
    }
   ],
   "source": [
    "n = int(0.8*len(data))\n",
    "train_data = data[:n]\n",
    "val_data = data[n:]\n",
    "\n",
    "def get_batch(split):\n",
    "    data = train_data if split == 'train' else val_data\n",
    "    ix = torch.randint(len(data) - block_size, (batch_size, ))\n",
    "    #print(ix)\n",
    "    x = torch.stack([data[i: i+block_size] for i in ix])\n",
    "    y = torch.stack([data[i + 1:i + block_size + 1] for i in ix])\n",
    "    x, y = x.to(device), y.to(device) #pushed to GPU = will be handled there\n",
    "    return x,y\n",
    "\n",
    "x, y = get_batch('train')\n",
    "print(\"inputs: \")\n",
    "print(x)\n",
    "\n",
    "print (\"targets: \")\n",
    "print(y)\n",
    "    "
   ]
  },
  {
   "cell_type": "code",
   "execution_count": 5,
   "id": "9c8c819b-261f-4d47-aa6b-3004d4e02728",
   "metadata": {},
   "outputs": [
    {
     "name": "stdout",
     "output_type": "stream",
     "text": [
      "tensor([80,  1,  1, 28, 39, 42, 39, 44])\n",
      "tensor([ 1,  1, 28, 39, 42, 39, 44, 32])\n",
      "when input is tensor([80]) target is tensor(1)\n",
      "when input is tensor([80,  1]) target is tensor(1)\n",
      "when input is tensor([80,  1,  1]) target is tensor(28)\n",
      "when input is tensor([80,  1,  1, 28]) target is tensor(39)\n",
      "when input is tensor([80,  1,  1, 28, 39]) target is tensor(42)\n",
      "when input is tensor([80,  1,  1, 28, 39, 42]) target is tensor(39)\n",
      "when input is tensor([80,  1,  1, 28, 39, 42, 39]) target is tensor(44)\n",
      "when input is tensor([80,  1,  1, 28, 39, 42, 39, 44]) target is tensor(32)\n"
     ]
    }
   ],
   "source": [
    "\n",
    "x = train_data[:block_size]\n",
    "y = train_data[1:block_size + 1]\n",
    "\n",
    "print(x)\n",
    "print(y)\n",
    "\n",
    "for t in range(block_size):\n",
    "    context = x[:t+1]\n",
    "    target=y[t]\n",
    "    print(\"when input is\", context, \"target is\", target)"
   ]
  },
  {
   "cell_type": "code",
   "execution_count": 6,
   "id": "cf0721bc-84d0-41f5-b986-e5ba7663340b",
   "metadata": {},
   "outputs": [
    {
     "name": "stdout",
     "output_type": "stream",
     "text": [
      "\n",
      "kYM56?fDUD7;eH[Ol.)]FH﻿0qm4a:]!g)E\n",
      "AXecv!ZsYK&GuG-fQuf44(I73e7jy'zBH7eR;09M]V?v,t:_L7q4dT-ssR3X m_q-Gag&8TL.prH﻿N7RY﻿n((S jsI6Vy6K9b3M!T_S'U.?YwSIUg(z3uJNhnLgE﻿cb_q﻿QwhUafa*Laa!awrYF 2s\"QY8Tx1jP?l8s48LMf1aj:s97C8nqiZs;\n",
      "OrwOC7XV?qm 97S2GaRbc5Vm﻿9l_5p8a]o.)sr6f4S'\n",
      "2[Pj3AhVMf5DhHD 5WAH!tE;R6\"U42yXf4JLRJZyeg,3He[YmnHer)wwkpDI9U)ppr3ju56,KWdtdvNqC8'O)KDz-7m4GTB\n",
      "W3q.uGR)LLgrY9*4z9CqlMbNGeX3q;[9gn*BI1&ucPeWzqvNqA-K,G4Pp﻿9s973MdaAES ykoF nk86N\n",
      "lvfcf2d2Ln?*ZAIBsgEXElm[sb3,PxSF)G4NQY-z'Skc0ZC\n",
      " cqHer*x4TFn\n"
     ]
    }
   ],
   "source": [
    "class BigramLanguageModel(nn.Module):\n",
    "    def __init__(self, vocab_size):\n",
    "        super().__init__()\n",
    "        self.token_embedding_table = nn.Embedding(vocab_size, vocab_size)\n",
    "\n",
    "    def forward(self, index, targets=None):\n",
    "        logits = self.token_embedding_table(index)\n",
    "        \n",
    "        if targets is None:\n",
    "            loss = None\n",
    "        else:\n",
    "            # batch size, ('time steps' or 'sequence length'), 'channels' = dimensionality of vectors =  vocab_size  \n",
    "            B, T, C = logits.shape\n",
    "\n",
    "            #flatten, now where the characters are in their individual sequences doesn't matter\n",
    "            logits = logits.view(B*T, C)\n",
    "            targets = targets.view(B*T)\n",
    "\n",
    "            #compares the vectors from embedding table to the truth value (truth vectors automatically generated, pytorch expects only the actual truth val here)\n",
    "            loss = F.cross_entropy(logits, targets)\n",
    "        \n",
    "        return logits, loss\n",
    "\n",
    "    #we're not training here, just using existing model\n",
    "    def generate(self, index, max_new_tokens):\n",
    "        # index is (B, T) array of indices in the current context\n",
    "        for _ in range(max_new_tokens):\n",
    "            # get the predictions\n",
    "            logits, loss = self.forward(index)\n",
    "            \n",
    "            # focus only on the last time step AS ONLY WANT NEXT CHARACTER\n",
    "            logits = logits[:, -1, :] # becomes (B, C)\n",
    "            \n",
    "            # apply softmax to get probabilities\n",
    "            probs = F.softmax(logits, dim=-1) # (B, C)\n",
    "            \n",
    "            # sample from the distribution\n",
    "            index_next = torch.multinomial(probs, num_samples=1) # (B, 1)\n",
    "            \n",
    "            # append sampled index to the running sequence\n",
    "            index = torch.cat((index, index_next), dim=1) # (B, T+1)\n",
    "        return index\n",
    "\n",
    "model = BigramLanguageModel(vocab_size)\n",
    "m = model.to(device) #push to GPU\n",
    "\n",
    "context = torch.zeros((1,1), dtype=torch.long, device=device) #nextline character\n",
    "generated_chars = decode(m.generate(context, max_new_tokens=500)[0].tolist())\n",
    "print(generated_chars)"
   ]
  },
  {
   "cell_type": "code",
   "execution_count": 7,
   "id": "24cb252b-5c58-4916-8e6b-eb61cecf1eec",
   "metadata": {},
   "outputs": [
    {
     "data": {
      "text/plain": [
       "torch.Size([2, 3, 5])"
      ]
     },
     "execution_count": 7,
     "metadata": {},
     "output_type": "execute_result"
    }
   ],
   "source": [
    "a = torch.rand(2, 3, 5)\n",
    "x, y, z = a.shape\n",
    "a = a.view(x, y, z)\n",
    "a.shape"
   ]
  },
  {
   "cell_type": "code",
   "execution_count": null,
   "id": "7ffa9f43-cd02-4a70-a15a-135fbbeb25b3",
   "metadata": {},
   "outputs": [],
   "source": [
    "#pytorch optimizer:\n",
    "optimizer = torch.optim.AdamW(model.parameters(), lr=learning_rate)\n",
    "\n",
    "for iter in range(max_iters):\n",
    "    #sample a batch of data\n",
    "    xb, yb = get_batch('train') #xb = index / inputs, yb = target\n",
    "\n",
    "    #evaluate the loss\n",
    "    logits, loss = model.forward(xb, yb)\n",
    "\n",
    "    #so previous gradients don't affect current gradient\n",
    "    #previous gradients are from previous data\n",
    "    #none instead of 0 as less space (0 would be stored as int64)\n",
    "    optimizer.zero_grad(set_to_none=True)\n",
    "\n",
    "    #computes gradients\n",
    "    loss.backward()\n",
    "\n",
    "    #updates model's weights based on gradients\n",
    "    optimizer.step()\n",
    "\n",
    "print(loss.item())"
   ]
  },
  {
   "cell_type": "code",
   "execution_count": 9,
   "id": "5a935687-723b-45bb-a818-f333861c7e3b",
   "metadata": {},
   "outputs": [
    {
     "name": "stdout",
     "output_type": "stream",
     "text": [
      "\n",
      "\n",
      "p4QU*g fLX[q])LFW3ea hosl ing(Ve. edTx7Pplo6j;gre:[F-z,\"c&R9J8N9y\n",
      "JYLa*N?0otwe'QPm\"64VhayU&W8REKSle pqGQop1Jgr39se ?p﻿n*GjT'bOmcP8IJ4xqGQ);E952?\"a8yo1ST.rm weg;E8'OprekEX-s0;E-z1v,3Wp4hs;X U,&(&&GNqO9C3Xckj53(I78Ghirw08:t zWdiserd EAut'UG8;i9jsljX)?0F( tHr3Kq\"z6cA-ett os,js  cP?*V7S2V?.jteiry7-y d lXo,\n",
      "w(R73uy]ik bis.X[Rpw\"hil ss,lftF(ITidvac0,heby, mL2mA9.boinf;R3es,\n",
      "p\n",
      " t!252Xley,!kc0bO.BITOd nyYLs\"auwTwIfe? Ojd prste p?)Mcxqf Wo is t\n",
      "\"z,8?:[]DCvugL6se;EHQd Wo ,X&Yzm yVG2(S.xz;ZVQ])L]He3wicwha\n"
     ]
    }
   ],
   "source": [
    "context = torch.zeros((1,1), dtype=torch.long, device=device)\n",
    "generated_chars = decode(m.generate(context, max_new_tokens=500)[0].tolist())\n",
    "print(generated_chars)"
   ]
  }
 ],
 "metadata": {
  "kernelspec": {
   "display_name": "cuda-gpt",
   "language": "python",
   "name": "cuda_env"
  },
  "language_info": {
   "codemirror_mode": {
    "name": "ipython",
    "version": 3
   },
   "file_extension": ".py",
   "mimetype": "text/x-python",
   "name": "python",
   "nbconvert_exporter": "python",
   "pygments_lexer": "ipython3",
   "version": "3.8.18"
  }
 },
 "nbformat": 4,
 "nbformat_minor": 5
}
